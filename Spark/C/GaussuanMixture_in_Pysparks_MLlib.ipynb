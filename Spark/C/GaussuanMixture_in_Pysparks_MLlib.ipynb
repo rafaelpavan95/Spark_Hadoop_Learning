{
 "cells": [
  {
   "cell_type": "markdown",
   "metadata": {},
   "source": [
    "# Gaussian Mixture Modeling in PySpark's MLlib \n",
    "\n",
    "As we discussed in the concept review lecture, GMM is a \"soft\" clustering method that provides a probability of how associated a data point is with a cluster as opposed to simply which cluster the data point is associated with. It works esspecially well for data that has multiple distributions, but can be used for any kind of data.\n",
    "\n",
    "If you would like to learn even more about GMM I recommend the following article: https://towardsdatascience.com/gaussian-mixture-models-explained-6986aaf5a95\n",
    "\n",
    "**Link to GMM in PySpark Documentation:**<br>\n",
    "https://spark.apache.org/docs/latest/api/python/pyspark.ml.html#pyspark.ml.clustering.GaussianMixture"
   ]
  },
  {
   "cell_type": "code",
   "execution_count": 1,
   "metadata": {},
   "outputs": [
    {
     "name": "stdout",
     "output_type": "stream",
     "text": [
      "You are working with 1 core(s)\n"
     ]
    },
    {
     "data": {
      "text/html": [
       "\n",
       "            <div>\n",
       "                <p><b>SparkSession - in-memory</b></p>\n",
       "                \n",
       "        <div>\n",
       "            <p><b>SparkContext</b></p>\n",
       "\n",
       "            <p><a href=\"http://orcuns-mbp-2.lan:4040\">Spark UI</a></p>\n",
       "\n",
       "            <dl>\n",
       "              <dt>Version</dt>\n",
       "                <dd><code>v2.4.4</code></dd>\n",
       "              <dt>Master</dt>\n",
       "                <dd><code>local[*]</code></dd>\n",
       "              <dt>AppName</dt>\n",
       "                <dd><code>Gix</code></dd>\n",
       "            </dl>\n",
       "        </div>\n",
       "        \n",
       "            </div>\n",
       "        "
      ],
      "text/plain": [
       "<pyspark.sql.session.SparkSession at 0x1193e1b50>"
      ]
     },
     "execution_count": 1,
     "metadata": {},
     "output_type": "execute_result"
    }
   ],
   "source": [
    "# First let's create our PySpark instance\n",
    "# import findspark\n",
    "# findspark.init()\n",
    "\n",
    "import pyspark # only run after findspark.init()\n",
    "from pyspark.sql import SparkSession\n",
    "# May take awhile locally\n",
    "spark = SparkSession.builder.appName(\"Gix\").getOrCreate()\n",
    "\n",
    "cores = spark._jsc.sc().getExecutorMemoryStatus().keySet().size()\n",
    "print(\"You are working with\", cores, \"core(s)\")\n",
    "spark"
   ]
  },
  {
   "cell_type": "markdown",
   "metadata": {},
   "source": [
    "## About this data\n",
    "\n",
    "Sample Sales Data, Order Info, Sales, Customer, Shipping, etc., Used for Segmentation, Customer Analytics, Clustering and More. Inspired for retail analytics. This was originally used for Pentaho DI Kettle, But I found the set could be useful for Sales Simulation training.\n",
    "\n",
    "Originally Written by María Carina Roldán, Pentaho Community Member, BI consultant (Assert Solutions), Argentina. This work is licensed under the Creative Commons Attribution-Noncommercial-Share Alike 3.0 Unported License. Modified by Gus Segura June 2014.\n",
    "\n",
    "**Source:** https://www.kaggle.com/kyanyoga/sample-sales-data"
   ]
  },
  {
   "cell_type": "code",
   "execution_count": 13,
   "metadata": {},
   "outputs": [],
   "source": [
    "path =\"Datasets/\"\n",
    "df = spark.read.csv(path+'sales_data_sample.csv',inferSchema=True,header=True)"
   ]
  },
  {
   "cell_type": "code",
   "execution_count": 9,
   "metadata": {},
   "outputs": [
    {
     "data": {
      "text/html": [
       "<div>\n",
       "<style scoped>\n",
       "    .dataframe tbody tr th:only-of-type {\n",
       "        vertical-align: middle;\n",
       "    }\n",
       "\n",
       "    .dataframe tbody tr th {\n",
       "        vertical-align: top;\n",
       "    }\n",
       "\n",
       "    .dataframe thead th {\n",
       "        text-align: right;\n",
       "    }\n",
       "</style>\n",
       "<table border=\"1\" class=\"dataframe\">\n",
       "  <thead>\n",
       "    <tr style=\"text-align: right;\">\n",
       "      <th></th>\n",
       "      <th>ORDERNUMBER</th>\n",
       "      <th>QUANTITYORDERED</th>\n",
       "      <th>PRICEEACH</th>\n",
       "      <th>ORDERLINENUMBER</th>\n",
       "      <th>SALES</th>\n",
       "      <th>ORDERDATE</th>\n",
       "      <th>STATUS</th>\n",
       "      <th>QTR_ID</th>\n",
       "      <th>MONTH_ID</th>\n",
       "      <th>YEAR_ID</th>\n",
       "      <th>...</th>\n",
       "      <th>ADDRESSLINE1</th>\n",
       "      <th>ADDRESSLINE2</th>\n",
       "      <th>CITY</th>\n",
       "      <th>STATE</th>\n",
       "      <th>POSTALCODE</th>\n",
       "      <th>COUNTRY</th>\n",
       "      <th>TERRITORY</th>\n",
       "      <th>CONTACTLASTNAME</th>\n",
       "      <th>CONTACTFIRSTNAME</th>\n",
       "      <th>DEALSIZE</th>\n",
       "    </tr>\n",
       "  </thead>\n",
       "  <tbody>\n",
       "    <tr>\n",
       "      <td>0</td>\n",
       "      <td>10107</td>\n",
       "      <td>30</td>\n",
       "      <td>95.70</td>\n",
       "      <td>2</td>\n",
       "      <td>2871.00</td>\n",
       "      <td>2/24/2003 0:00</td>\n",
       "      <td>Shipped</td>\n",
       "      <td>1</td>\n",
       "      <td>2</td>\n",
       "      <td>2003</td>\n",
       "      <td>...</td>\n",
       "      <td>897 Long Airport Avenue</td>\n",
       "      <td>None</td>\n",
       "      <td>NYC</td>\n",
       "      <td>NY</td>\n",
       "      <td>10022</td>\n",
       "      <td>USA</td>\n",
       "      <td>NA</td>\n",
       "      <td>Yu</td>\n",
       "      <td>Kwai</td>\n",
       "      <td>Small</td>\n",
       "    </tr>\n",
       "    <tr>\n",
       "      <td>1</td>\n",
       "      <td>10121</td>\n",
       "      <td>34</td>\n",
       "      <td>81.35</td>\n",
       "      <td>5</td>\n",
       "      <td>2765.90</td>\n",
       "      <td>5/7/2003 0:00</td>\n",
       "      <td>Shipped</td>\n",
       "      <td>2</td>\n",
       "      <td>5</td>\n",
       "      <td>2003</td>\n",
       "      <td>...</td>\n",
       "      <td>59 rue de l'Abbaye</td>\n",
       "      <td>None</td>\n",
       "      <td>Reims</td>\n",
       "      <td>None</td>\n",
       "      <td>51100</td>\n",
       "      <td>France</td>\n",
       "      <td>EMEA</td>\n",
       "      <td>Henriot</td>\n",
       "      <td>Paul</td>\n",
       "      <td>Small</td>\n",
       "    </tr>\n",
       "    <tr>\n",
       "      <td>2</td>\n",
       "      <td>10134</td>\n",
       "      <td>41</td>\n",
       "      <td>94.74</td>\n",
       "      <td>2</td>\n",
       "      <td>3884.34</td>\n",
       "      <td>7/1/2003 0:00</td>\n",
       "      <td>Shipped</td>\n",
       "      <td>3</td>\n",
       "      <td>7</td>\n",
       "      <td>2003</td>\n",
       "      <td>...</td>\n",
       "      <td>27 rue du Colonel Pierre Avia</td>\n",
       "      <td>None</td>\n",
       "      <td>Paris</td>\n",
       "      <td>None</td>\n",
       "      <td>75508</td>\n",
       "      <td>France</td>\n",
       "      <td>EMEA</td>\n",
       "      <td>Da Cunha</td>\n",
       "      <td>Daniel</td>\n",
       "      <td>Medium</td>\n",
       "    </tr>\n",
       "    <tr>\n",
       "      <td>3</td>\n",
       "      <td>10145</td>\n",
       "      <td>45</td>\n",
       "      <td>83.26</td>\n",
       "      <td>6</td>\n",
       "      <td>3746.70</td>\n",
       "      <td>8/25/2003 0:00</td>\n",
       "      <td>Shipped</td>\n",
       "      <td>3</td>\n",
       "      <td>8</td>\n",
       "      <td>2003</td>\n",
       "      <td>...</td>\n",
       "      <td>78934 Hillside Dr.</td>\n",
       "      <td>None</td>\n",
       "      <td>Pasadena</td>\n",
       "      <td>CA</td>\n",
       "      <td>90003</td>\n",
       "      <td>USA</td>\n",
       "      <td>NA</td>\n",
       "      <td>Young</td>\n",
       "      <td>Julie</td>\n",
       "      <td>Medium</td>\n",
       "    </tr>\n",
       "    <tr>\n",
       "      <td>4</td>\n",
       "      <td>10159</td>\n",
       "      <td>49</td>\n",
       "      <td>100.00</td>\n",
       "      <td>14</td>\n",
       "      <td>5205.27</td>\n",
       "      <td>10/10/2003 0:00</td>\n",
       "      <td>Shipped</td>\n",
       "      <td>4</td>\n",
       "      <td>10</td>\n",
       "      <td>2003</td>\n",
       "      <td>...</td>\n",
       "      <td>7734 Strong St.</td>\n",
       "      <td>None</td>\n",
       "      <td>San Francisco</td>\n",
       "      <td>CA</td>\n",
       "      <td>None</td>\n",
       "      <td>USA</td>\n",
       "      <td>NA</td>\n",
       "      <td>Brown</td>\n",
       "      <td>Julie</td>\n",
       "      <td>Medium</td>\n",
       "    </tr>\n",
       "  </tbody>\n",
       "</table>\n",
       "<p>5 rows × 25 columns</p>\n",
       "</div>"
      ],
      "text/plain": [
       "   ORDERNUMBER  QUANTITYORDERED  PRICEEACH  ORDERLINENUMBER    SALES  \\\n",
       "0        10107               30      95.70                2  2871.00   \n",
       "1        10121               34      81.35                5  2765.90   \n",
       "2        10134               41      94.74                2  3884.34   \n",
       "3        10145               45      83.26                6  3746.70   \n",
       "4        10159               49     100.00               14  5205.27   \n",
       "\n",
       "         ORDERDATE   STATUS  QTR_ID  MONTH_ID  YEAR_ID  ...  \\\n",
       "0   2/24/2003 0:00  Shipped       1         2     2003  ...   \n",
       "1    5/7/2003 0:00  Shipped       2         5     2003  ...   \n",
       "2    7/1/2003 0:00  Shipped       3         7     2003  ...   \n",
       "3   8/25/2003 0:00  Shipped       3         8     2003  ...   \n",
       "4  10/10/2003 0:00  Shipped       4        10     2003  ...   \n",
       "\n",
       "                    ADDRESSLINE1  ADDRESSLINE2           CITY STATE  \\\n",
       "0        897 Long Airport Avenue          None            NYC    NY   \n",
       "1             59 rue de l'Abbaye          None          Reims  None   \n",
       "2  27 rue du Colonel Pierre Avia          None          Paris  None   \n",
       "3             78934 Hillside Dr.          None       Pasadena    CA   \n",
       "4                7734 Strong St.          None  San Francisco    CA   \n",
       "\n",
       "  POSTALCODE COUNTRY TERRITORY CONTACTLASTNAME CONTACTFIRSTNAME DEALSIZE  \n",
       "0      10022     USA        NA              Yu             Kwai    Small  \n",
       "1      51100  France      EMEA         Henriot             Paul    Small  \n",
       "2      75508  France      EMEA        Da Cunha           Daniel   Medium  \n",
       "3      90003     USA        NA           Young            Julie   Medium  \n",
       "4       None     USA        NA           Brown            Julie   Medium  \n",
       "\n",
       "[5 rows x 25 columns]"
      ]
     },
     "execution_count": 9,
     "metadata": {},
     "output_type": "execute_result"
    }
   ],
   "source": [
    "df.limit(5).toPandas()"
   ]
  },
  {
   "cell_type": "code",
   "execution_count": 10,
   "metadata": {},
   "outputs": [
    {
     "name": "stdout",
     "output_type": "stream",
     "text": [
      "root\n",
      " |-- ORDERNUMBER: integer (nullable = true)\n",
      " |-- QUANTITYORDERED: integer (nullable = true)\n",
      " |-- PRICEEACH: double (nullable = true)\n",
      " |-- ORDERLINENUMBER: integer (nullable = true)\n",
      " |-- SALES: double (nullable = true)\n",
      " |-- ORDERDATE: string (nullable = true)\n",
      " |-- STATUS: string (nullable = true)\n",
      " |-- QTR_ID: integer (nullable = true)\n",
      " |-- MONTH_ID: integer (nullable = true)\n",
      " |-- YEAR_ID: integer (nullable = true)\n",
      " |-- PRODUCTLINE: string (nullable = true)\n",
      " |-- MSRP: integer (nullable = true)\n",
      " |-- PRODUCTCODE: string (nullable = true)\n",
      " |-- CUSTOMERNAME: string (nullable = true)\n",
      " |-- PHONE: string (nullable = true)\n",
      " |-- ADDRESSLINE1: string (nullable = true)\n",
      " |-- ADDRESSLINE2: string (nullable = true)\n",
      " |-- CITY: string (nullable = true)\n",
      " |-- STATE: string (nullable = true)\n",
      " |-- POSTALCODE: string (nullable = true)\n",
      " |-- COUNTRY: string (nullable = true)\n",
      " |-- TERRITORY: string (nullable = true)\n",
      " |-- CONTACTLASTNAME: string (nullable = true)\n",
      " |-- CONTACTFIRSTNAME: string (nullable = true)\n",
      " |-- DEALSIZE: string (nullable = true)\n",
      "\n"
     ]
    }
   ],
   "source": [
    "df.printSchema()"
   ]
  },
  {
   "cell_type": "markdown",
   "metadata": {},
   "source": [
    "## Import some libraries we will need\n",
    "\n",
    "You will notice that some of these are pythonic which means they won't distribute accross our dataframe, but we will only use them on situations were distribution is not usually necessary. I always try to use PySpark functions where ever I can, but sometimes the functionality I need is not available. In these cases I lean back on my trusty Python libraries :)"
   ]
  },
  {
   "cell_type": "code",
   "execution_count": null,
   "metadata": {},
   "outputs": [],
   "source": [
    "import matplotlib.pyplot as plt\n",
    "from mpl_toolkits.mplot3d import Axes3D\n",
    "from pyspark.sql.functions import *\n",
    "from pyspark.ml.feature import VectorAssembler\n",
    "from pyspark.ml.clustering import GaussianMixture\n",
    "import numpy as np"
   ]
  },
  {
   "cell_type": "code",
   "execution_count": 84,
   "metadata": {},
   "outputs": [
    {
     "data": {
      "text/html": [
       "<div>\n",
       "<style scoped>\n",
       "    .dataframe tbody tr th:only-of-type {\n",
       "        vertical-align: middle;\n",
       "    }\n",
       "\n",
       "    .dataframe tbody tr th {\n",
       "        vertical-align: top;\n",
       "    }\n",
       "\n",
       "    .dataframe thead th {\n",
       "        text-align: right;\n",
       "    }\n",
       "</style>\n",
       "<table border=\"1\" class=\"dataframe\">\n",
       "  <thead>\n",
       "    <tr style=\"text-align: right;\">\n",
       "      <th></th>\n",
       "      <th>QUANTITYORDERED</th>\n",
       "      <th>PRICEEACH</th>\n",
       "      <th>SALES</th>\n",
       "    </tr>\n",
       "  </thead>\n",
       "  <tbody>\n",
       "    <tr>\n",
       "      <td>0</td>\n",
       "      <td>30</td>\n",
       "      <td>95.70</td>\n",
       "      <td>2871.00</td>\n",
       "    </tr>\n",
       "    <tr>\n",
       "      <td>1</td>\n",
       "      <td>34</td>\n",
       "      <td>81.35</td>\n",
       "      <td>2765.90</td>\n",
       "    </tr>\n",
       "    <tr>\n",
       "      <td>2</td>\n",
       "      <td>41</td>\n",
       "      <td>94.74</td>\n",
       "      <td>3884.34</td>\n",
       "    </tr>\n",
       "    <tr>\n",
       "      <td>3</td>\n",
       "      <td>45</td>\n",
       "      <td>83.26</td>\n",
       "      <td>3746.70</td>\n",
       "    </tr>\n",
       "    <tr>\n",
       "      <td>4</td>\n",
       "      <td>49</td>\n",
       "      <td>100.00</td>\n",
       "      <td>5205.27</td>\n",
       "    </tr>\n",
       "  </tbody>\n",
       "</table>\n",
       "</div>"
      ],
      "text/plain": [
       "   QUANTITYORDERED  PRICEEACH    SALES\n",
       "0               30      95.70  2871.00\n",
       "1               34      81.35  2765.90\n",
       "2               41      94.74  3884.34\n",
       "3               45      83.26  3746.70\n",
       "4               49     100.00  5205.27"
      ]
     },
     "execution_count": 84,
     "metadata": {},
     "output_type": "execute_result"
    }
   ],
   "source": [
    "def fill_with_mean(df, include=set()): \n",
    "    stats = df.agg(*(\n",
    "        avg(c).alias(c) for c in df.columns if c in include\n",
    "    ))\n",
    "#     stats = stats.select(*(col(c).cast(\"int\").alias(c) for c in stats.columns)) #IntegerType()\n",
    "    return df.na.fill(stats.first().asDict())\n",
    "\n",
    "cols_list = [\"QUANTITYORDERED\",\"PRICEEACH\",\"SALES\"]\n",
    "df = df.select(cols_list)\n",
    "columns = df.columns\n",
    "df = fill_with_mean(df, columns)\n",
    "df.limit(5).toPandas()"
   ]
  },
  {
   "cell_type": "markdown",
   "metadata": {},
   "source": [
    "Convert all input columns into a vector as usual"
   ]
  },
  {
   "cell_type": "code",
   "execution_count": 15,
   "metadata": {},
   "outputs": [
    {
     "name": "stdout",
     "output_type": "stream",
     "text": [
      "+---------------+---------+---------------+-------+--------------------+\n",
      "|QUANTITYORDERED|PRICEEACH|ORDERLINENUMBER|  SALES|            features|\n",
      "+---------------+---------+---------------+-------+--------------------+\n",
      "|             30|     95.7|              2| 2871.0|[30.0,95.7,2.0,28...|\n",
      "|             34|    81.35|              5| 2765.9|[34.0,81.35,5.0,2...|\n",
      "|             41|    94.74|              2|3884.34|[41.0,94.74,2.0,3...|\n",
      "|             45|    83.26|              6| 3746.7|[45.0,83.26,6.0,3...|\n",
      "|             49|    100.0|             14|5205.27|[49.0,100.0,14.0,...|\n",
      "|             36|    96.66|              1|3479.76|[36.0,96.66,1.0,3...|\n",
      "|             29|    86.13|              9|2497.77|[29.0,86.13,9.0,2...|\n",
      "|             48|    100.0|              1|5512.32|[48.0,100.0,1.0,5...|\n",
      "|             22|    98.57|              2|2168.54|[22.0,98.57,2.0,2...|\n",
      "|             41|    100.0|             14|4708.44|[41.0,100.0,14.0,...|\n",
      "|             37|    100.0|              1|3965.66|[37.0,100.0,1.0,3...|\n",
      "|             23|    100.0|              7|2333.12|[23.0,100.0,7.0,2...|\n",
      "|             28|    100.0|              2|3188.64|[28.0,100.0,2.0,3...|\n",
      "|             34|    100.0|              2|3676.76|[34.0,100.0,2.0,3...|\n",
      "|             45|    92.83|              1|4177.35|[45.0,92.83,1.0,4...|\n",
      "|             36|    100.0|              6|4099.68|[36.0,100.0,6.0,4...|\n",
      "|             23|    100.0|              9|2597.39|[23.0,100.0,9.0,2...|\n",
      "|             41|    100.0|              5|4394.38|[41.0,100.0,5.0,4...|\n",
      "|             46|    94.74|              1|4358.04|[46.0,94.74,1.0,4...|\n",
      "|             42|    100.0|              1|4396.14|[42.0,100.0,1.0,4...|\n",
      "+---------------+---------+---------------+-------+--------------------+\n",
      "only showing top 20 rows\n",
      "\n"
     ]
    }
   ],
   "source": [
    "input_columns = df.columns # Collect the column names as a list\n",
    "vecAssembler = VectorAssembler(inputCols=input_columns, outputCol=\"features\")\n",
    "final_df = vecAssembler.transform(df).select('features')\n",
    "final_df.show()"
   ]
  },
  {
   "cell_type": "markdown",
   "metadata": {},
   "source": [
    "## Determine optimal K"
   ]
  },
  {
   "cell_type": "code",
   "execution_count": 32,
   "metadata": {},
   "outputs": [],
   "source": [
    "kmax = 50\n",
    "ll = np.zeros(kmax)\n",
    "for k in range(2,kmax):\n",
    "    gm = GaussianMixture(k=k, tol=0.0001,maxIter=10, seed=10)\n",
    "    model = gm.fit(final_df)\n",
    "    summary = model.summary\n",
    "    ll[k] = summary.logLikelihood"
   ]
  },
  {
   "cell_type": "code",
   "execution_count": 34,
   "metadata": {},
   "outputs": [
    {
     "data": {
      "text/plain": [
       "Text(0, 0.5, 'll')"
      ]
     },
     "execution_count": 34,
     "metadata": {},
     "output_type": "execute_result"
    },
    {
     "data": {
      "image/png": "[encoded data removed]",
      "text/plain": [
       "<Figure size 576x432 with 1 Axes>"
      ]
     },
     "metadata": {
      "needs_background": "light"
     },
     "output_type": "display_data"
    }
   ],
   "source": [
    "fig, ax = plt.subplots(1,1, figsize =(8,6))\n",
    "ax.plot(range(2,kmax),ll[2:kmax])\n",
    "ax.set_xlabel('k')\n",
    "ax.set_ylabel('ll')"
   ]
  },
  {
   "cell_type": "code",
   "execution_count": 36,
   "metadata": {},
   "outputs": [
    {
     "name": "stdout",
     "output_type": "stream",
     "text": [
      "Clusters:  5\n",
      "Cluster Sizes:  [1307, 557, 683, 269, 7]\n",
      "Log Likelihood:  -42091.3287298091\n",
      "Model Weights: : 5\n",
      "Means:  Row(mean=DenseVector([35.2432, 99.9999, 6.3042, 4858.4348]))\n",
      "Cov:  Row(cov=DenseMatrix(4, 4, [95.3451, -0.0017, -1.599, 13240.3948, -0.0017, 0.0051, 0.0003, 0.2313, -1.599, 0.0003, 17.6356, -620.4555, 13240.3948, 0.2313, -620.4555, 3098268.7191], False))\n"
     ]
    }
   ],
   "source": [
    "#for the sake of speed and simplicity we will stick with k = 5\n",
    "gm = GaussianMixture(k=5, maxIter=10, seed=10)\n",
    "model = gm.fit(final_df)\n",
    "\n",
    "summary = model.summary\n",
    "print(\"Clusters: \",summary.k)\n",
    "print(\"Cluster Sizes: \",summary.clusterSizes)\n",
    "print(\"Log Likelihood: \",summary.logLikelihood)\n",
    "\n",
    "weights = model.weights\n",
    "print(\"Model Weights: :\",len(weights))\n",
    "\n",
    "print(\"Means: \", model.gaussiansDF.select(\"mean\").head())\n",
    "\n",
    "print(\"Cov: \",model.gaussiansDF.select(\"cov\").head())\n",
    "\n",
    "transformed = model.transform(final_df)#.select(\"features\", \"prediction\")"
   ]
  },
  {
   "cell_type": "markdown",
   "metadata": {},
   "source": [
    "## Reflection\n",
    "\n",
    "Looks the 5 clusters that our model identified range in size quite a bit. There is one cluster that only has 7 cases in it as opposed to 1,307 in the largest cluster. If we were using this dataset to target customers, we may want to focus our efforts on the largest group first as we would have more bange for our buck. "
   ]
  },
  {
   "cell_type": "code",
   "execution_count": 49,
   "metadata": {},
   "outputs": [
    {
     "data": {
      "text/html": [
       "<div>\n",
       "<style scoped>\n",
       "    .dataframe tbody tr th:only-of-type {\n",
       "        vertical-align: middle;\n",
       "    }\n",
       "\n",
       "    .dataframe tbody tr th {\n",
       "        vertical-align: top;\n",
       "    }\n",
       "\n",
       "    .dataframe thead th {\n",
       "        text-align: right;\n",
       "    }\n",
       "</style>\n",
       "<table border=\"1\" class=\"dataframe\">\n",
       "  <thead>\n",
       "    <tr style=\"text-align: right;\">\n",
       "      <th></th>\n",
       "      <th>QUANTITYORDERED</th>\n",
       "      <th>PRICEEACH</th>\n",
       "      <th>ORDERLINENUMBER</th>\n",
       "      <th>SALES</th>\n",
       "      <th>features</th>\n",
       "      <th>prediction</th>\n",
       "      <th>probability</th>\n",
       "    </tr>\n",
       "  </thead>\n",
       "  <tbody>\n",
       "    <tr>\n",
       "      <td>0</td>\n",
       "      <td>30</td>\n",
       "      <td>95.70</td>\n",
       "      <td>2</td>\n",
       "      <td>2871.00</td>\n",
       "      <td>[30.0, 95.7, 2.0, 2871.0]</td>\n",
       "      <td>1</td>\n",
       "      <td>[2.576242335400428e-09, 0.9936129458888519, 0....</td>\n",
       "    </tr>\n",
       "    <tr>\n",
       "      <td>1</td>\n",
       "      <td>34</td>\n",
       "      <td>81.35</td>\n",
       "      <td>5</td>\n",
       "      <td>2765.90</td>\n",
       "      <td>[34.0, 81.35, 5.0, 2765.9]</td>\n",
       "      <td>1</td>\n",
       "      <td>[2.0491464873025015e-09, 0.7536167498832121, 0...</td>\n",
       "    </tr>\n",
       "    <tr>\n",
       "      <td>2</td>\n",
       "      <td>41</td>\n",
       "      <td>94.74</td>\n",
       "      <td>2</td>\n",
       "      <td>3884.34</td>\n",
       "      <td>[41.0, 94.74, 2.0, 3884.34]</td>\n",
       "      <td>1</td>\n",
       "      <td>[2.808547346069505e-09, 0.9999999858981471, 5....</td>\n",
       "    </tr>\n",
       "    <tr>\n",
       "      <td>3</td>\n",
       "      <td>45</td>\n",
       "      <td>83.26</td>\n",
       "      <td>6</td>\n",
       "      <td>3746.70</td>\n",
       "      <td>[45.0, 83.26, 6.0, 3746.7]</td>\n",
       "      <td>1</td>\n",
       "      <td>[1.200694195906369e-09, 0.9999901329467054, 2....</td>\n",
       "    </tr>\n",
       "    <tr>\n",
       "      <td>4</td>\n",
       "      <td>49</td>\n",
       "      <td>100.00</td>\n",
       "      <td>14</td>\n",
       "      <td>5205.27</td>\n",
       "      <td>[49.0, 100.0, 14.0, 5205.27]</td>\n",
       "      <td>0</td>\n",
       "      <td>[0.9999999914016878, 2.145403541812765e-09, 2....</td>\n",
       "    </tr>\n",
       "    <tr>\n",
       "      <td>5</td>\n",
       "      <td>36</td>\n",
       "      <td>96.66</td>\n",
       "      <td>1</td>\n",
       "      <td>3479.76</td>\n",
       "      <td>[36.0, 96.66, 1.0, 3479.76]</td>\n",
       "      <td>1</td>\n",
       "      <td>[3.1991237092048344e-09, 0.9999787000076509, 2...</td>\n",
       "    </tr>\n",
       "    <tr>\n",
       "      <td>6</td>\n",
       "      <td>29</td>\n",
       "      <td>86.13</td>\n",
       "      <td>9</td>\n",
       "      <td>2497.77</td>\n",
       "      <td>[29.0, 86.13, 9.0, 2497.77]</td>\n",
       "      <td>1</td>\n",
       "      <td>[1.8010638142653283e-09, 0.8460037782289711, 0...</td>\n",
       "    </tr>\n",
       "  </tbody>\n",
       "</table>\n",
       "</div>"
      ],
      "text/plain": [
       "   QUANTITYORDERED  PRICEEACH  ORDERLINENUMBER    SALES  \\\n",
       "0               30      95.70                2  2871.00   \n",
       "1               34      81.35                5  2765.90   \n",
       "2               41      94.74                2  3884.34   \n",
       "3               45      83.26                6  3746.70   \n",
       "4               49     100.00               14  5205.27   \n",
       "5               36      96.66                1  3479.76   \n",
       "6               29      86.13                9  2497.77   \n",
       "\n",
       "                       features  prediction  \\\n",
       "0     [30.0, 95.7, 2.0, 2871.0]           1   \n",
       "1    [34.0, 81.35, 5.0, 2765.9]           1   \n",
       "2   [41.0, 94.74, 2.0, 3884.34]           1   \n",
       "3    [45.0, 83.26, 6.0, 3746.7]           1   \n",
       "4  [49.0, 100.0, 14.0, 5205.27]           0   \n",
       "5   [36.0, 96.66, 1.0, 3479.76]           1   \n",
       "6   [29.0, 86.13, 9.0, 2497.77]           1   \n",
       "\n",
       "                                         probability  \n",
       "0  [2.576242335400428e-09, 0.9936129458888519, 0....  \n",
       "1  [2.0491464873025015e-09, 0.7536167498832121, 0...  \n",
       "2  [2.808547346069505e-09, 0.9999999858981471, 5....  \n",
       "3  [1.200694195906369e-09, 0.9999901329467054, 2....  \n",
       "4  [0.9999999914016878, 2.145403541812765e-09, 2....  \n",
       "5  [3.1991237092048344e-09, 0.9999787000076509, 2...  \n",
       "6  [1.8010638142653283e-09, 0.8460037782289711, 0...  "
      ]
     },
     "execution_count": 49,
     "metadata": {},
     "output_type": "execute_result"
    }
   ],
   "source": [
    "transformed.limit(7).toPandas()"
   ]
  },
  {
   "cell_type": "markdown",
   "metadata": {},
   "source": [
    "Let's see if we can try to learn something about our clusters!"
   ]
  },
  {
   "cell_type": "code",
   "execution_count": 62,
   "metadata": {
    "scrolled": true
   },
   "outputs": [
    {
     "name": "stdout",
     "output_type": "stream",
     "text": [
      "+---------------+---------+---------------+------+----------------------+----------+---------------------------------------------------------------------------------------------------------+\n",
      "|QUANTITYORDERED|PRICEEACH|ORDERLINENUMBER|SALES |features              |prediction|probability                                                                                              |\n",
      "+---------------+---------+---------------+------+----------------------+----------+---------------------------------------------------------------------------------------------------------+\n",
      "|30             |95.7     |2              |2871.0|[30.0,95.7,2.0,2871.0]|1         |[2.576242335400428E-9,0.9936129458888519,0.006387046382421183,2.576242335400428E-9,2.5762423354873702E-9]|\n",
      "+---------------+---------+---------------+------+----------------------+----------+---------------------------------------------------------------------------------------------------------+\n",
      "only showing top 1 row\n",
      "\n"
     ]
    }
   ],
   "source": [
    "transformed.show(1,False)"
   ]
  },
  {
   "cell_type": "code",
   "execution_count": 81,
   "metadata": {},
   "outputs": [
    {
     "name": "stdout",
     "output_type": "stream",
     "text": [
      "+----------+--------------+--------------------+-----------------+----------+\n",
      "|prediction|min(PRICEEACH)|min(QUANTITYORDERED)|count(prediction)|min(SALES)|\n",
      "+----------+--------------+--------------------+-----------------+----------+\n",
      "|         0|         99.82|                   6|             1307|    785.64|\n",
      "|         1|         72.74|                   6|              557|    541.14|\n",
      "|         2|         45.69|                  13|              683|     925.3|\n",
      "|         3|         26.88|                  11|              269|    482.13|\n",
      "|         4|         73.92|                  55|                7|    4136.0|\n",
      "+----------+--------------+--------------------+-----------------+----------+\n",
      "\n"
     ]
    }
   ],
   "source": [
    "transformed.groupBy(\"prediction\").agg({\"prediction\":\"count\",'QUANTITYORDERED':'min','PRICEEACH':'min','SALES':'min'}).orderBy(\"prediction\").show()"
   ]
  },
  {
   "cell_type": "code",
   "execution_count": 82,
   "metadata": {},
   "outputs": [
    {
     "name": "stdout",
     "output_type": "stream",
     "text": [
      "+----------+--------------+--------------------+-----------------+----------+\n",
      "|prediction|max(PRICEEACH)|max(QUANTITYORDERED)|count(prediction)|max(SALES)|\n",
      "+----------+--------------+--------------------+-----------------+----------+\n",
      "|         0|         100.0|                  76|             1307|   14082.8|\n",
      "|         1|         99.72|                  66|              557|    6134.7|\n",
      "|         2|         83.39|                  66|              683|   4421.34|\n",
      "|         3|         56.55|                  64|              269|    3064.6|\n",
      "|         4|          94.5|                  97|                7|   9048.16|\n",
      "+----------+--------------+--------------------+-----------------+----------+\n",
      "\n"
     ]
    }
   ],
   "source": [
    "transformed.groupBy(\"prediction\").agg({\"prediction\":\"count\",'QUANTITYORDERED':'max','PRICEEACH':'max','SALES':'max'}).orderBy(\"prediction\").show()"
   ]
  },
  {
   "cell_type": "code",
   "execution_count": 83,
   "metadata": {},
   "outputs": [
    {
     "name": "stdout",
     "output_type": "stream",
     "text": [
      "+----------+-----------------+--------------------+-----------------+------------------+\n",
      "|prediction|   avg(PRICEEACH)|avg(QUANTITYORDERED)|count(prediction)|        avg(SALES)|\n",
      "+----------+-----------------+--------------------+-----------------+------------------+\n",
      "|         0|99.99965570007652|   35.24407039020658|             1307| 4857.021721499616|\n",
      "|         1|88.07508078994616|   36.50448833034111|              557|3189.8936804308782|\n",
      "|         2|65.07619326500735|   32.21669106881406|              683|2090.1185944363106|\n",
      "|         3|42.26126394052046|   37.74349442379182|              269|1620.2876951672863|\n",
      "|         4|85.05428571428573|   73.28571428571429|                7| 6331.755714285714|\n",
      "+----------+-----------------+--------------------+-----------------+------------------+\n",
      "\n"
     ]
    }
   ],
   "source": [
    "transformed.groupBy(\"prediction\").agg({\"prediction\":\"count\",'QUANTITYORDERED':'mean','PRICEEACH':'mean','SALES':'mean'}).orderBy(\"prediction\").show()"
   ]
  },
  {
   "cell_type": "code",
   "execution_count": 70,
   "metadata": {},
   "outputs": [
    {
     "name": "stdout",
     "output_type": "stream",
     "text": [
      "Total Cases in this Cluster:  1307\n"
     ]
    },
    {
     "data": {
      "text/html": [
       "<div>\n",
       "<style scoped>\n",
       "    .dataframe tbody tr th:only-of-type {\n",
       "        vertical-align: middle;\n",
       "    }\n",
       "\n",
       "    .dataframe tbody tr th {\n",
       "        vertical-align: top;\n",
       "    }\n",
       "\n",
       "    .dataframe thead th {\n",
       "        text-align: right;\n",
       "    }\n",
       "</style>\n",
       "<table border=\"1\" class=\"dataframe\">\n",
       "  <thead>\n",
       "    <tr style=\"text-align: right;\">\n",
       "      <th></th>\n",
       "      <th>summary</th>\n",
       "      <th>QUANTITYORDERED</th>\n",
       "      <th>PRICEEACH</th>\n",
       "      <th>ORDERLINENUMBER</th>\n",
       "      <th>SALES</th>\n",
       "      <th>prediction</th>\n",
       "    </tr>\n",
       "  </thead>\n",
       "  <tbody>\n",
       "    <tr>\n",
       "      <td>0</td>\n",
       "      <td>min</td>\n",
       "      <td>6</td>\n",
       "      <td>99.82</td>\n",
       "      <td>1</td>\n",
       "      <td>785.64</td>\n",
       "      <td>0</td>\n",
       "    </tr>\n",
       "    <tr>\n",
       "      <td>1</td>\n",
       "      <td>mean</td>\n",
       "      <td>35.24407039020658</td>\n",
       "      <td>99.99965570007652</td>\n",
       "      <td>6.30451415455241</td>\n",
       "      <td>4857.021721499616</td>\n",
       "      <td>0.0</td>\n",
       "    </tr>\n",
       "    <tr>\n",
       "      <td>2</td>\n",
       "      <td>max</td>\n",
       "      <td>76</td>\n",
       "      <td>100.0</td>\n",
       "      <td>17</td>\n",
       "      <td>14082.8</td>\n",
       "      <td>0</td>\n",
       "    </tr>\n",
       "  </tbody>\n",
       "</table>\n",
       "</div>"
      ],
      "text/plain": [
       "  summary    QUANTITYORDERED          PRICEEACH   ORDERLINENUMBER  \\\n",
       "0     min                  6              99.82                 1   \n",
       "1    mean  35.24407039020658  99.99965570007652  6.30451415455241   \n",
       "2     max                 76              100.0                17   \n",
       "\n",
       "               SALES prediction  \n",
       "0             785.64          0  \n",
       "1  4857.021721499616        0.0  \n",
       "2            14082.8          0  "
      ]
     },
     "execution_count": 70,
     "metadata": {},
     "output_type": "execute_result"
    }
   ],
   "source": [
    "limited = transformed.filter(\"prediction == 0\")\n",
    "aggregates = limited.summary(\"min\", \"mean\", \"max\")\n",
    "print(\"Total Cases in this Cluster: \",limited.count())\n",
    "aggregates.toPandas()"
   ]
  },
  {
   "cell_type": "markdown",
   "metadata": {},
   "source": [
    "# Conclusions\n",
    "\n",
    "Of the 5 clusters, the first one seems to buy for quality (highest price per item and max sales), while the last cluster seems to be the \"buy in bulk\" shoppers. Cluster 3 seems to be more of a bargain hunter (lowest price each and avg sales)"
   ]
  }
 ],
 "metadata": {
  "kernelspec": {
   "display_name": "Python 3 (ipykernel)",
   "language": "python",
   "name": "python3"
  },
  "language_info": {
   "codemirror_mode": {
    "name": "ipython",
    "version": 3
   },
   "file_extension": ".py",
   "mimetype": "text/x-python",
   "name": "python",
   "nbconvert_exporter": "python",
   "pygments_lexer": "ipython3",
   "version": "3.9.7"
  }
 },
 "nbformat": 4,
 "nbformat_minor": 2
}
